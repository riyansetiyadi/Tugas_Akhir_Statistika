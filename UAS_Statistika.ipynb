{
  "nbformat": 4,
  "nbformat_minor": 0,
  "metadata": {
    "colab": {
      "name": "UAS Statistika.ipynb",
      "provenance": [],
      "collapsed_sections": [],
      "authorship_tag": "ABX9TyO6T7nRVwYGrx4qgmu85DoZ",
      "include_colab_link": true
    },
    "kernelspec": {
      "name": "python3",
      "display_name": "Python 3"
    },
    "language_info": {
      "name": "python"
    }
  },
  "cells": [
    {
      "cell_type": "markdown",
      "metadata": {
        "id": "view-in-github",
        "colab_type": "text"
      },
      "source": [
        "<a href=\"https://colab.research.google.com/github/riyansetiyadi/Tugas_Akhir_Statistika/blob/main/UAS_Statistika.ipynb\" target=\"_parent\"><img src=\"https://colab.research.google.com/assets/colab-badge.svg\" alt=\"Open In Colab\"/></a>"
      ]
    },
    {
      "cell_type": "code",
      "metadata": {
        "id": "4GS6LXpHcGLG"
      },
      "source": [
        "from scipy.stats import poisson\n",
        "import pandas as pd"
      ],
      "execution_count": 9,
      "outputs": []
    },
    {
      "cell_type": "code",
      "metadata": {
        "id": "tU-QN2RUXIJh"
      },
      "source": [
        "#membuat fungsi distribusi poisson dengan parameter n dan mu/lamda\n",
        "def distribusi_poisson(n,mu):\n",
        "    x_values = list(range(n + 1)) #simpan list x_values\n",
        "    x = poisson.rvs(mu=mu,size=n) #generate random variates poisson\n",
        "    dist = [poisson(mu=mu).pmf(x)for x in x_values ] #append nilai distribusi poisson ke list\n",
        "    d = {'X': x_values, 'p(X)': dist}\n",
        "    df = pd.DataFrame(data=d)\n",
        "    print(df)"
      ],
      "execution_count": 17,
      "outputs": []
    },
    {
      "cell_type": "code",
      "metadata": {
        "colab": {
          "base_uri": "https://localhost:8080/"
        },
        "id": "uRp6LmaFb8DP",
        "outputId": "f2eea102-3e05-4261-bd21-3d813569ed0c"
      },
      "source": [
        "# setting nilai n dan mu/lamda\n",
        "n=5\n",
        "mu=9.397\n",
        "distribusi_poisson(n, mu)"
      ],
      "execution_count": 18,
      "outputs": [
        {
          "output_type": "stream",
          "text": [
            "   X      p(X)\n",
            "0  0  0.000083\n",
            "1  1  0.000780\n",
            "2  2  0.003663\n",
            "3  3  0.011475\n",
            "4  4  0.026958\n",
            "5  5  0.050664\n"
          ],
          "name": "stdout"
        }
      ]
    },
    {
      "cell_type": "code",
      "metadata": {
        "id": "g3uXcncedrSd"
      },
      "source": [
        ""
      ],
      "execution_count": null,
      "outputs": []
    }
  ]
}