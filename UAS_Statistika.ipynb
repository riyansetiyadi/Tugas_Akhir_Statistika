{
  "nbformat": 4,
  "nbformat_minor": 0,
  "metadata": {
    "colab": {
      "name": "UAS Statistika.ipynb",
      "provenance": [],
      "collapsed_sections": [],
      "authorship_tag": "ABX9TyPR9Ad2ZE1BY+a0DJV+M3DG",
      "include_colab_link": true
    },
    "kernelspec": {
      "name": "python3",
      "display_name": "Python 3"
    },
    "language_info": {
      "name": "python"
    }
  },
  "cells": [
    {
      "cell_type": "markdown",
      "metadata": {
        "id": "view-in-github",
        "colab_type": "text"
      },
      "source": [
        "<a href=\"https://colab.research.google.com/github/riyansetiyadi/Tugas_Akhir_Statistika/blob/main/UAS_Statistika.ipynb\" target=\"_parent\"><img src=\"https://colab.research.google.com/assets/colab-badge.svg\" alt=\"Open In Colab\"/></a>"
      ]
    },
    {
      "cell_type": "code",
      "metadata": {
        "id": "4GS6LXpHcGLG"
      },
      "source": [
        "from scipy.stats import poisson\n",
        "import pandas as pd"
      ],
      "execution_count": 9,
      "outputs": []
    },
    {
      "cell_type": "code",
      "metadata": {
        "colab": {
          "base_uri": "https://localhost:8080/",
          "height": 235
        },
        "id": "ztQNtpYqfXCE",
        "outputId": "35e7eb40-1431-4797-fc28-f3087402dfc0"
      },
      "source": [
        "dataCovid = pd.read_csv(\"Data COVID 19 2021.csv\")\n",
        "dataCovid"
      ],
      "execution_count": 20,
      "outputs": [
        {
          "output_type": "execute_result",
          "data": {
            "text/html": [
              "<div>\n",
              "<style scoped>\n",
              "    .dataframe tbody tr th:only-of-type {\n",
              "        vertical-align: middle;\n",
              "    }\n",
              "\n",
              "    .dataframe tbody tr th {\n",
              "        vertical-align: top;\n",
              "    }\n",
              "\n",
              "    .dataframe thead th {\n",
              "        text-align: right;\n",
              "    }\n",
              "</style>\n",
              "<table border=\"1\" class=\"dataframe\">\n",
              "  <thead>\n",
              "    <tr style=\"text-align: right;\">\n",
              "      <th></th>\n",
              "      <th>No</th>\n",
              "      <th>Bulan</th>\n",
              "      <th>Kasus Aktif</th>\n",
              "      <th>Kasus Meninggal</th>\n",
              "    </tr>\n",
              "  </thead>\n",
              "  <tbody>\n",
              "    <tr>\n",
              "      <th>0</th>\n",
              "      <td>1</td>\n",
              "      <td>Januari</td>\n",
              "      <td>175,349</td>\n",
              "      <td>7,860</td>\n",
              "    </tr>\n",
              "    <tr>\n",
              "      <th>1</th>\n",
              "      <td>2</td>\n",
              "      <td>Februari</td>\n",
              "      <td>155,765</td>\n",
              "      <td>6,168</td>\n",
              "    </tr>\n",
              "    <tr>\n",
              "      <th>2</th>\n",
              "      <td>3</td>\n",
              "      <td>Maret</td>\n",
              "      <td>122,524</td>\n",
              "      <td>4,419</td>\n",
              "    </tr>\n",
              "    <tr>\n",
              "      <th>3</th>\n",
              "      <td>4</td>\n",
              "      <td>April</td>\n",
              "      <td>100,213</td>\n",
              "      <td>4,663</td>\n",
              "    </tr>\n",
              "    <tr>\n",
              "      <th>4</th>\n",
              "      <td>5</td>\n",
              "      <td>Mei</td>\n",
              "      <td>102,006</td>\n",
              "      <td>5,057</td>\n",
              "    </tr>\n",
              "    <tr>\n",
              "      <th>5</th>\n",
              "      <td>6</td>\n",
              "      <td>Juni</td>\n",
              "      <td>135,738</td>\n",
              "      <td>3,559</td>\n",
              "    </tr>\n",
              "  </tbody>\n",
              "</table>\n",
              "</div>"
            ],
            "text/plain": [
              "   No     Bulan Kasus Aktif Kasus Meninggal\n",
              "0   1   Januari     175,349           7,860\n",
              "1   2  Februari     155,765           6,168\n",
              "2   3     Maret     122,524           4,419\n",
              "3   4     April     100,213           4,663\n",
              "4   5       Mei     102,006           5,057\n",
              "5   6      Juni     135,738           3,559"
            ]
          },
          "metadata": {
            "tags": []
          },
          "execution_count": 20
        }
      ]
    },
    {
      "cell_type": "code",
      "metadata": {
        "id": "tU-QN2RUXIJh"
      },
      "source": [
        "#membuat fungsi distribusi poisson dengan parameter n dan mu/lamda\n",
        "def distribusi_poisson(n,mu):\n",
        "    x_values = list(range(n + 1)) #simpan list x_values\n",
        "    x = poisson.rvs(mu=mu,size=n) #generate random variates poisson\n",
        "    dist = [poisson(mu=mu).pmf(x)for x in x_values ] #append nilai distribusi poisson ke list\n",
        "    d = {'X': x_values, 'p(X)': dist}\n",
        "    df = pd.DataFrame(data=d)\n",
        "    print(df)"
      ],
      "execution_count": 17,
      "outputs": []
    },
    {
      "cell_type": "code",
      "metadata": {
        "colab": {
          "base_uri": "https://localhost:8080/"
        },
        "id": "uRp6LmaFb8DP",
        "outputId": "f2eea102-3e05-4261-bd21-3d813569ed0c"
      },
      "source": [
        "# setting nilai n dan mu/lamda\n",
        "n=5\n",
        "mu=9.397\n",
        "distribusi_poisson(n, mu)"
      ],
      "execution_count": 18,
      "outputs": [
        {
          "output_type": "stream",
          "text": [
            "   X      p(X)\n",
            "0  0  0.000083\n",
            "1  1  0.000780\n",
            "2  2  0.003663\n",
            "3  3  0.011475\n",
            "4  4  0.026958\n",
            "5  5  0.050664\n"
          ],
          "name": "stdout"
        }
      ]
    },
    {
      "cell_type": "code",
      "metadata": {
        "id": "g3uXcncedrSd"
      },
      "source": [
        ""
      ],
      "execution_count": null,
      "outputs": []
    }
  ]
}